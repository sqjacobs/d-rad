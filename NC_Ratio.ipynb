{
 "cells": [
  {
   "cell_type": "code",
   "execution_count": 9,
   "metadata": {},
   "outputs": [
    {
     "name": "stdout",
     "output_type": "stream",
     "text": [
      "                             Nuclear_Area (pixels)                 \n",
      "                                              mean        std count\n",
      "strain                                                             \n",
      "['05062024', 'dsr17', '0k']              61.956819  27.858010  2339\n",
      "['05062024', 'dsr17', '10k']             57.205718  24.361543  3393\n",
      "['05062024', 'dsr19', '0k']              62.400211  29.871554  5687\n",
      "['05062024', 'dsr19', '10k']             58.703782  26.253084  6161\n",
      "['05062024', 'dsr20', '0k']              77.468804  45.298779  3494\n",
      "['05062024', 'dsr20', '10k']             87.969346  41.007928  2936\n",
      "['05062024', 'dsr39', '0k']              61.521963  30.338213  6397\n",
      "['05062024', 'dsr39', '10k']             56.648129  25.111698  4729\n",
      "['05062024', 'dsr9', '0k']               70.961409  36.407337  3265\n",
      "['05062024', 'dsr9', '10k']              72.667665  33.118725  1670\n",
      "['05062024', 'r1', '0k']                 70.119231  36.182160  6089\n",
      "['05062024', 'r1', '10k']                54.695043  23.456993  3994\n"
     ]
    },
    {
     "data": {
      "image/png": "[encoded data removed]",
      "text/plain": [
       "<Figure size 504x360 with 1 Axes>"
      ]
     },
     "metadata": {
      "needs_background": "light"
     },
     "output_type": "display_data"
    }
   ],
   "source": [
    "import csv\n",
    "import pandas \n",
    "import numpy as np; np.random.seed(1)\n",
    "from matplotlib import pyplot as plt\n",
    "import seaborn as sns\n",
    "\n",
    "file = pandas.read_csv(r'C:\\Users\\sqjac\\OneDrive\\Desktop\\05062024_master_sheet.csv',usecols=['Nuclear_Area (pixels)','strain'])\n",
    "strains = file.groupby('strain')#.plot(kind='box',legend=True)\n",
    "#strains.to_csv(r'C:\\Users\\sqjac\\OneDrive\\Desktop\\strains.csv')\n",
    "dsr170k = strains.get_group(\"['05062024', 'dsr17', '0k']\")\n",
    "dsr390k = strains.get_group(\"['05062024', 'dsr39', '0k']\")\n",
    "#print(strains)\n",
    "#file.to_csv(r'C:\\Users\\sqjac\\OneDrive\\Desktop\\NC_ratio.csv',index=False)\n",
    "\n",
    "std=strains.std()\n",
    "count=strains.count()\n",
    "mean=strains.mean()\n",
    "result=strains.agg(['mean','std','count'])\n",
    "result.to_csv(r'C:\\Users\\sqjac\\OneDrive\\Desktop\\may_strains_avgs.csv')\n",
    "print(result)\n",
    "plt.rc('axes',titlesize=20)\n",
    "plt.rc('axes',labelsize=20)\n",
    "f=plt.figure()\n",
    "f.set_figwidth(7)\n",
    "f.set_figheight(5)\n",
    "ax=sns.boxplot(data=dsr390k)\n",
    "#ax=sns.boxplot(data=dsr170k)\n",
    "\n",
    "\n",
    "\n"
   ]
  },
  {
   "cell_type": "code",
   "execution_count": null,
   "metadata": {},
   "outputs": [],
   "source": []
  },
  {
   "cell_type": "code",
   "execution_count": null,
   "metadata": {},
   "outputs": [],
   "source": []
  }
 ],
 "metadata": {
  "kernelspec": {
   "display_name": "Python 3",
   "language": "python",
   "name": "python3"
  },
  "language_info": {
   "codemirror_mode": {
    "name": "ipython",
    "version": 3
   },
   "file_extension": ".py",
   "mimetype": "text/x-python",
   "name": "python",
   "nbconvert_exporter": "python",
   "pygments_lexer": "ipython3",
   "version": "3.7.3"
  }
 },
 "nbformat": 4,
 "nbformat_minor": 2
}
